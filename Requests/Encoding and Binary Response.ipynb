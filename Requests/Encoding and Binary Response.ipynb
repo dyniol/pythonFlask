{
 "cells": [
  {
   "cell_type": "code",
   "execution_count": 1,
   "id": "90bbc7f7",
   "metadata": {},
   "outputs": [],
   "source": [
    "import requests\n",
    "from pprint import pprint"
   ]
  },
  {
   "cell_type": "code",
   "execution_count": 2,
   "id": "30b32995",
   "metadata": {},
   "outputs": [],
   "source": [
    "resp_obj = requests.get('http://httpbin.org')"
   ]
  },
  {
   "cell_type": "code",
   "execution_count": 3,
   "id": "567e29e4",
   "metadata": {},
   "outputs": [
    {
     "data": {
      "text/plain": [
       "200"
      ]
     },
     "execution_count": 3,
     "metadata": {},
     "output_type": "execute_result"
    }
   ],
   "source": [
    "resp_obj.status_code"
   ]
  },
  {
   "cell_type": "code",
   "execution_count": 4,
   "id": "f50ad69f",
   "metadata": {},
   "outputs": [
    {
     "data": {
      "text/plain": [
       "'utf-8'"
      ]
     },
     "execution_count": 4,
     "metadata": {},
     "output_type": "execute_result"
    }
   ],
   "source": [
    "resp_obj.encoding"
   ]
  },
  {
   "cell_type": "code",
   "execution_count": 5,
   "id": "930440dc",
   "metadata": {},
   "outputs": [],
   "source": [
    "resp_obj.encoding = 'ISO 8859-1'"
   ]
  },
  {
   "cell_type": "code",
   "execution_count": 6,
   "id": "88cd9f45",
   "metadata": {},
   "outputs": [
    {
     "data": {
      "text/plain": [
       "'ISO 8859-1'"
      ]
     },
     "execution_count": 6,
     "metadata": {},
     "output_type": "execute_result"
    }
   ],
   "source": [
    "resp_obj.encoding"
   ]
  },
  {
   "cell_type": "code",
   "execution_count": 7,
   "id": "338d623b",
   "metadata": {},
   "outputs": [],
   "source": [
    "resp_obj = requests.get('https://github.com/timeline.json')"
   ]
  },
  {
   "cell_type": "code",
   "execution_count": 8,
   "id": "2d7c89d7",
   "metadata": {},
   "outputs": [
    {
     "data": {
      "text/plain": [
       "410"
      ]
     },
     "execution_count": 8,
     "metadata": {},
     "output_type": "execute_result"
    }
   ],
   "source": [
    "resp_obj.status_code"
   ]
  },
  {
   "cell_type": "code",
   "execution_count": 9,
   "id": "3fc43b2a",
   "metadata": {},
   "outputs": [
    {
     "name": "stdout",
     "output_type": "stream",
     "text": [
      "('{\"message\":\"Hello there, wayfaring stranger. If you’re reading this then you '\n",
      " 'probably didn’t see our blog post a couple of years back announcing that '\n",
      " 'this API would go away: http://git.io/17AROg Fear not, you should be able to '\n",
      " 'get what you need from the shiny new Events API '\n",
      " 'instead.\",\"documentation_url\":\"https://docs.github.com/v3/activity/events/#list-public-events\"}')\n"
     ]
    }
   ],
   "source": [
    "pprint(resp_obj.text)"
   ]
  },
  {
   "cell_type": "code",
   "execution_count": 10,
   "id": "4ce41835",
   "metadata": {},
   "outputs": [
    {
     "data": {
      "text/plain": [
       "'utf-8'"
      ]
     },
     "execution_count": 10,
     "metadata": {},
     "output_type": "execute_result"
    }
   ],
   "source": [
    "resp_obj.encoding"
   ]
  },
  {
   "cell_type": "code",
   "execution_count": 11,
   "id": "dc940a55",
   "metadata": {},
   "outputs": [],
   "source": [
    "resp_obj.encoding = 'ISO 8859-1'\n"
   ]
  },
  {
   "cell_type": "code",
   "execution_count": 12,
   "id": "3cfc7646",
   "metadata": {},
   "outputs": [
    {
     "data": {
      "text/plain": [
       "'ISO 8859-1'"
      ]
     },
     "execution_count": 12,
     "metadata": {},
     "output_type": "execute_result"
    }
   ],
   "source": [
    "resp_obj.encoding"
   ]
  },
  {
   "cell_type": "code",
   "execution_count": 13,
   "id": "b1580695",
   "metadata": {},
   "outputs": [
    {
     "name": "stdout",
     "output_type": "stream",
     "text": [
      "('{\"message\":\"Hello there, wayfaring stranger. If youâ\\x80\\x99re reading this '\n",
      " 'then you probably didnâ\\x80\\x99t see our blog post a couple of years back '\n",
      " 'announcing that this API would go away: http://git.io/17AROg Fear not, you '\n",
      " 'should be able to get what you need from the shiny new Events API '\n",
      " 'instead.\",\"documentation_url\":\"https://docs.github.com/v3/activity/events/#list-public-events\"}')\n"
     ]
    }
   ],
   "source": [
    "pprint(resp_obj.text)"
   ]
  },
  {
   "cell_type": "code",
   "execution_count": 28,
   "id": "e79bb75b",
   "metadata": {},
   "outputs": [],
   "source": [
    "from PIL import Image\n",
    "from io import BytesIO"
   ]
  },
  {
   "cell_type": "code",
   "execution_count": 29,
   "id": "817306a7",
   "metadata": {},
   "outputs": [],
   "source": [
    "resp = requests.get('https://upload.wikimedia.org/wikipedia/commons/thumb/4/4c/Moon_and_Aurora.jpg/320px-Moon_and_Aurora.jpg')"
   ]
  },
  {
   "cell_type": "code",
   "execution_count": 30,
   "id": "a4471b40",
   "metadata": {},
   "outputs": [
    {
     "data": {
      "text/plain": [
       "403"
      ]
     },
     "execution_count": 30,
     "metadata": {},
     "output_type": "execute_result"
    }
   ],
   "source": [
    "resp.status_code"
   ]
  },
  {
   "cell_type": "code",
   "execution_count": 31,
   "id": "82a29a62",
   "metadata": {},
   "outputs": [
    {
     "data": {
      "text/plain": [
       "bytes"
      ]
     },
     "execution_count": 31,
     "metadata": {},
     "output_type": "execute_result"
    }
   ],
   "source": [
    "type(resp.content)"
   ]
  },
  {
   "cell_type": "code",
   "execution_count": 34,
   "id": "cb133044",
   "metadata": {},
   "outputs": [
    {
     "ename": "UnidentifiedImageError",
     "evalue": "cannot identify image file <_io.BytesIO object at 0x7fbdb9fa5a98>",
     "output_type": "error",
     "traceback": [
      "\u001b[0;31m---------------------------------------------------------------------------\u001b[0m",
      "\u001b[0;31mUnidentifiedImageError\u001b[0m                    Traceback (most recent call last)",
      "\u001b[0;32m<ipython-input-34-44f89aacf501>\u001b[0m in \u001b[0;36m<module>\u001b[0;34m\u001b[0m\n\u001b[0;32m----> 1\u001b[0;31m \u001b[0mimage\u001b[0m \u001b[0;34m=\u001b[0m \u001b[0mImage\u001b[0m\u001b[0;34m.\u001b[0m\u001b[0mopen\u001b[0m\u001b[0;34m(\u001b[0m\u001b[0mBytesIO\u001b[0m\u001b[0;34m(\u001b[0m\u001b[0mresp\u001b[0m\u001b[0;34m.\u001b[0m\u001b[0mcontent\u001b[0m\u001b[0;34m)\u001b[0m\u001b[0;34m)\u001b[0m\u001b[0;34m\u001b[0m\u001b[0;34m\u001b[0m\u001b[0m\n\u001b[0m",
      "\u001b[0;32m~/.local/lib/python3.6/site-packages/PIL/Image.py\u001b[0m in \u001b[0;36mopen\u001b[0;34m(fp, mode, formats)\u001b[0m\n\u001b[1;32m   2966\u001b[0m         \u001b[0mwarnings\u001b[0m\u001b[0;34m.\u001b[0m\u001b[0mwarn\u001b[0m\u001b[0;34m(\u001b[0m\u001b[0mmessage\u001b[0m\u001b[0;34m)\u001b[0m\u001b[0;34m\u001b[0m\u001b[0;34m\u001b[0m\u001b[0m\n\u001b[1;32m   2967\u001b[0m     raise UnidentifiedImageError(\n\u001b[0;32m-> 2968\u001b[0;31m         \u001b[0;34m\"cannot identify image file %r\"\u001b[0m \u001b[0;34m%\u001b[0m \u001b[0;34m(\u001b[0m\u001b[0mfilename\u001b[0m \u001b[0;32mif\u001b[0m \u001b[0mfilename\u001b[0m \u001b[0;32melse\u001b[0m \u001b[0mfp\u001b[0m\u001b[0;34m)\u001b[0m\u001b[0;34m\u001b[0m\u001b[0;34m\u001b[0m\u001b[0m\n\u001b[0m\u001b[1;32m   2969\u001b[0m     )\n\u001b[1;32m   2970\u001b[0m \u001b[0;34m\u001b[0m\u001b[0m\n",
      "\u001b[0;31mUnidentifiedImageError\u001b[0m: cannot identify image file <_io.BytesIO object at 0x7fbdb9fa5a98>"
     ]
    }
   ],
   "source": [
    "image = Image.open(BytesIO(resp.content))"
   ]
  },
  {
   "cell_type": "code",
   "execution_count": 35,
   "id": "71baeffc",
   "metadata": {},
   "outputs": [
    {
     "ename": "NameError",
     "evalue": "name 'image' is not defined",
     "output_type": "error",
     "traceback": [
      "\u001b[0;31m---------------------------------------------------------------------------\u001b[0m",
      "\u001b[0;31mNameError\u001b[0m                                 Traceback (most recent call last)",
      "\u001b[0;32m<ipython-input-35-6bf841debb6e>\u001b[0m in \u001b[0;36m<module>\u001b[0;34m\u001b[0m\n\u001b[0;32m----> 1\u001b[0;31m \u001b[0mtype\u001b[0m\u001b[0;34m(\u001b[0m\u001b[0mimage\u001b[0m\u001b[0;34m)\u001b[0m\u001b[0;34m\u001b[0m\u001b[0;34m\u001b[0m\u001b[0m\n\u001b[0m",
      "\u001b[0;31mNameError\u001b[0m: name 'image' is not defined"
     ]
    }
   ],
   "source": [
    "type(image)"
   ]
  },
  {
   "cell_type": "code",
   "execution_count": 36,
   "id": "ac555747",
   "metadata": {},
   "outputs": [
    {
     "ename": "NameError",
     "evalue": "name 'image' is not defined",
     "output_type": "error",
     "traceback": [
      "\u001b[0;31m---------------------------------------------------------------------------\u001b[0m",
      "\u001b[0;31mNameError\u001b[0m                                 Traceback (most recent call last)",
      "\u001b[0;32m<ipython-input-36-2115e2f6be75>\u001b[0m in \u001b[0;36m<module>\u001b[0;34m\u001b[0m\n\u001b[0;32m----> 1\u001b[0;31m \u001b[0mimage\u001b[0m\u001b[0;34m.\u001b[0m\u001b[0msave\u001b[0m\u001b[0;34m(\u001b[0m\u001b[0;34m'aurora.png'\u001b[0m\u001b[0;34m)\u001b[0m\u001b[0;34m\u001b[0m\u001b[0;34m\u001b[0m\u001b[0m\n\u001b[0m",
      "\u001b[0;31mNameError\u001b[0m: name 'image' is not defined"
     ]
    }
   ],
   "source": [
    "image.save('aurora.png')"
   ]
  },
  {
   "cell_type": "code",
   "execution_count": null,
   "id": "87ad229a",
   "metadata": {},
   "outputs": [],
   "source": [
    "#bullshit"
   ]
  }
 ],
 "metadata": {
  "kernelspec": {
   "display_name": "Python 3",
   "language": "python",
   "name": "python3"
  },
  "language_info": {
   "codemirror_mode": {
    "name": "ipython",
    "version": 3
   },
   "file_extension": ".py",
   "mimetype": "text/x-python",
   "name": "python",
   "nbconvert_exporter": "python",
   "pygments_lexer": "ipython3",
   "version": "3.6.9"
  }
 },
 "nbformat": 4,
 "nbformat_minor": 5
}
