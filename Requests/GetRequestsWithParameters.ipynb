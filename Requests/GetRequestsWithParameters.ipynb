{
 "cells": [
  {
   "cell_type": "code",
   "execution_count": 1,
   "id": "591fb782",
   "metadata": {},
   "outputs": [],
   "source": [
    "import requests\n",
    "import webbrowser"
   ]
  },
  {
   "cell_type": "code",
   "execution_count": 2,
   "id": "d7266c05",
   "metadata": {},
   "outputs": [],
   "source": [
    "url = \"https://www.wikipedia.org/\""
   ]
  },
  {
   "cell_type": "code",
   "execution_count": 3,
   "id": "125300a2",
   "metadata": {},
   "outputs": [],
   "source": [
    "resp_obj = requests.get(url)"
   ]
  },
  {
   "cell_type": "code",
   "execution_count": 4,
   "id": "4aefcbd3",
   "metadata": {},
   "outputs": [
    {
     "name": "stdout",
     "output_type": "stream",
     "text": [
      "https://www.wikipedia.org/\n"
     ]
    }
   ],
   "source": [
    "print(resp_obj.url)"
   ]
  },
  {
   "cell_type": "code",
   "execution_count": 5,
   "id": "8fa6cc11",
   "metadata": {},
   "outputs": [
    {
     "data": {
      "text/plain": [
       "True"
      ]
     },
     "execution_count": 5,
     "metadata": {},
     "output_type": "execute_result"
    }
   ],
   "source": [
    "webbrowser.open(resp_obj.url)"
   ]
  },
  {
   "cell_type": "code",
   "execution_count": 12,
   "id": "a7a59f90",
   "metadata": {},
   "outputs": [
    {
     "name": "stdout",
     "output_type": "stream",
     "text": [
      "Enter the term you need to search: skillsoft\n"
     ]
    }
   ],
   "source": [
    "search_term = input(\"Enter the term you need to search: \")"
   ]
  },
  {
   "cell_type": "code",
   "execution_count": 13,
   "id": "f9c70bda",
   "metadata": {},
   "outputs": [],
   "source": [
    "URL = 'https://www.youtube.com/search'"
   ]
  },
  {
   "cell_type": "code",
   "execution_count": 14,
   "id": "b315724d",
   "metadata": {},
   "outputs": [],
   "source": [
    "PARAMS = {'q' : search_term}"
   ]
  },
  {
   "cell_type": "code",
   "execution_count": 15,
   "id": "8864062c",
   "metadata": {},
   "outputs": [],
   "source": [
    "r_get = requests.get(url = URL,\n",
    "                    params = PARAMS)"
   ]
  },
  {
   "cell_type": "code",
   "execution_count": 16,
   "id": "2b653fc1",
   "metadata": {},
   "outputs": [
    {
     "name": "stdout",
     "output_type": "stream",
     "text": [
      "200\n"
     ]
    }
   ],
   "source": [
    "print(r_get.status_code)"
   ]
  },
  {
   "cell_type": "code",
   "execution_count": 17,
   "id": "b392be27",
   "metadata": {},
   "outputs": [
    {
     "name": "stdout",
     "output_type": "stream",
     "text": [
      "https://consent.youtube.com/ml?continue=https://www.youtube.com/results?q%3Dskillsoft&gl=PL&hl=pl&pc=yt&uxe=23983172&src=1\n"
     ]
    }
   ],
   "source": [
    "print(r_get.url)"
   ]
  },
  {
   "cell_type": "code",
   "execution_count": 18,
   "id": "217bad3f",
   "metadata": {},
   "outputs": [
    {
     "data": {
      "text/plain": [
       "True"
      ]
     },
     "execution_count": 18,
     "metadata": {},
     "output_type": "execute_result"
    }
   ],
   "source": [
    "webbrowser.open(r_get.url)"
   ]
  },
  {
   "cell_type": "code",
   "execution_count": null,
   "id": "af4b0675",
   "metadata": {},
   "outputs": [],
   "source": []
  }
 ],
 "metadata": {
  "kernelspec": {
   "display_name": "Python 3",
   "language": "python",
   "name": "python3"
  },
  "language_info": {
   "codemirror_mode": {
    "name": "ipython",
    "version": 3
   },
   "file_extension": ".py",
   "mimetype": "text/x-python",
   "name": "python",
   "nbconvert_exporter": "python",
   "pygments_lexer": "ipython3",
   "version": "3.6.9"
  }
 },
 "nbformat": 4,
 "nbformat_minor": 5
}
