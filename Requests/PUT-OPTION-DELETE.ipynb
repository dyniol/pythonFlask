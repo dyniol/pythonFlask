{
 "cells": [
  {
   "cell_type": "code",
   "execution_count": 1,
   "id": "62a87106",
   "metadata": {},
   "outputs": [],
   "source": [
    "import requests\n",
    "from pprint import pprint\n",
    "import json"
   ]
  },
  {
   "cell_type": "code",
   "execution_count": 2,
   "id": "3a156346",
   "metadata": {},
   "outputs": [],
   "source": [
    "r_put = requests.put('http://httpbin.org/put', data = {'key':'value'})"
   ]
  },
  {
   "cell_type": "code",
   "execution_count": 3,
   "id": "728f99d5",
   "metadata": {},
   "outputs": [
    {
     "data": {
      "text/plain": [
       "200"
      ]
     },
     "execution_count": 3,
     "metadata": {},
     "output_type": "execute_result"
    }
   ],
   "source": [
    "r_put.status_code"
   ]
  },
  {
   "cell_type": "code",
   "execution_count": 4,
   "id": "03a96d63",
   "metadata": {},
   "outputs": [
    {
     "data": {
      "text/plain": [
       "requests.models.Response"
      ]
     },
     "execution_count": 4,
     "metadata": {},
     "output_type": "execute_result"
    }
   ],
   "source": [
    "type(r_put)"
   ]
  },
  {
   "cell_type": "code",
   "execution_count": 5,
   "id": "d5306d53",
   "metadata": {},
   "outputs": [
    {
     "data": {
      "text/plain": [
       "'{\\n  \"args\": {}, \\n  \"data\": \"\", \\n  \"files\": {}, \\n  \"form\": {\\n    \"key\": \"value\"\\n  }, \\n  \"headers\": {\\n    \"Accept\": \"*/*\", \\n    \"Accept-Encoding\": \"gzip, deflate\", \\n    \"Content-Length\": \"9\", \\n    \"Content-Type\": \"application/x-www-form-urlencoded\", \\n    \"Host\": \"httpbin.org\", \\n    \"User-Agent\": \"python-requests/2.26.0\", \\n    \"X-Amzn-Trace-Id\": \"Root=1-60f7d423-27c3150b65d6f9090ec02c70\"\\n  }, \\n  \"json\": null, \\n  \"origin\": \"93.181.166.134\", \\n  \"url\": \"http://httpbin.org/put\"\\n}\\n'"
      ]
     },
     "execution_count": 5,
     "metadata": {},
     "output_type": "execute_result"
    }
   ],
   "source": [
    "r_put.text"
   ]
  },
  {
   "cell_type": "code",
   "execution_count": 6,
   "id": "48ce8f60",
   "metadata": {},
   "outputs": [],
   "source": [
    "r_option = requests.options('https://httpbin.org/get')"
   ]
  },
  {
   "cell_type": "code",
   "execution_count": 7,
   "id": "9af2cfdc",
   "metadata": {},
   "outputs": [
    {
     "data": {
      "text/plain": [
       "requests.models.Response"
      ]
     },
     "execution_count": 7,
     "metadata": {},
     "output_type": "execute_result"
    }
   ],
   "source": [
    "type(r_option)"
   ]
  },
  {
   "cell_type": "code",
   "execution_count": 8,
   "id": "d9149718",
   "metadata": {},
   "outputs": [
    {
     "data": {
      "text/plain": [
       "''"
      ]
     },
     "execution_count": 8,
     "metadata": {},
     "output_type": "execute_result"
    }
   ],
   "source": [
    "r_option.text"
   ]
  },
  {
   "cell_type": "code",
   "execution_count": 9,
   "id": "69160ec6",
   "metadata": {},
   "outputs": [
    {
     "name": "stdout",
     "output_type": "stream",
     "text": [
      "{'Date': 'Wed, 21 Jul 2021 08:01:47 GMT', 'Content-Type': 'text/html; charset=utf-8', 'Content-Length': '0', 'Connection': 'keep-alive', 'Server': 'gunicorn/19.9.0', 'Allow': 'HEAD, OPTIONS, GET', 'Access-Control-Allow-Origin': '*', 'Access-Control-Allow-Credentials': 'true', 'Access-Control-Allow-Methods': 'GET, POST, PUT, DELETE, PATCH, OPTIONS', 'Access-Control-Max-Age': '3600'}\n"
     ]
    }
   ],
   "source": [
    "pprint(r_option.headers)"
   ]
  },
  {
   "cell_type": "code",
   "execution_count": 10,
   "id": "8e5f4ab2",
   "metadata": {},
   "outputs": [],
   "source": [
    "r_delete = requests.delete('http://httpbin.org/delete')"
   ]
  },
  {
   "cell_type": "code",
   "execution_count": 11,
   "id": "b68ecb32",
   "metadata": {},
   "outputs": [
    {
     "data": {
      "text/plain": [
       "200"
      ]
     },
     "execution_count": 11,
     "metadata": {},
     "output_type": "execute_result"
    }
   ],
   "source": [
    "r_delete.status_code"
   ]
  },
  {
   "cell_type": "code",
   "execution_count": null,
   "id": "54d2c891",
   "metadata": {},
   "outputs": [],
   "source": [
    "type(r_)"
   ]
  }
 ],
 "metadata": {
  "kernelspec": {
   "display_name": "Python 3",
   "language": "python",
   "name": "python3"
  },
  "language_info": {
   "codemirror_mode": {
    "name": "ipython",
    "version": 3
   },
   "file_extension": ".py",
   "mimetype": "text/x-python",
   "name": "python",
   "nbconvert_exporter": "python",
   "pygments_lexer": "ipython3",
   "version": "3.6.9"
  }
 },
 "nbformat": 4,
 "nbformat_minor": 5
}
