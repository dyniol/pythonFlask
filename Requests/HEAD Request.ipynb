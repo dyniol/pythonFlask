{
 "cells": [
  {
   "cell_type": "code",
   "execution_count": 1,
   "id": "29cabfeb",
   "metadata": {},
   "outputs": [],
   "source": [
    "import requests\n",
    "from pprint import pprint\n",
    "import json"
   ]
  },
  {
   "cell_type": "code",
   "execution_count": 2,
   "id": "94073680",
   "metadata": {},
   "outputs": [],
   "source": [
    "r_head = requests.head('http://example.com')"
   ]
  },
  {
   "cell_type": "code",
   "execution_count": 3,
   "id": "4a96cd8d",
   "metadata": {},
   "outputs": [
    {
     "data": {
      "text/plain": [
       "200"
      ]
     },
     "execution_count": 3,
     "metadata": {},
     "output_type": "execute_result"
    }
   ],
   "source": [
    "r_head.status_code"
   ]
  },
  {
   "cell_type": "code",
   "execution_count": 4,
   "id": "4826d173",
   "metadata": {},
   "outputs": [
    {
     "data": {
      "text/plain": [
       "''"
      ]
     },
     "execution_count": 4,
     "metadata": {},
     "output_type": "execute_result"
    }
   ],
   "source": [
    "r_head.text"
   ]
  },
  {
   "cell_type": "code",
   "execution_count": 5,
   "id": "bf3bd693",
   "metadata": {},
   "outputs": [
    {
     "data": {
      "text/plain": [
       "b''"
      ]
     },
     "execution_count": 5,
     "metadata": {},
     "output_type": "execute_result"
    }
   ],
   "source": [
    "r_head.content"
   ]
  },
  {
   "cell_type": "code",
   "execution_count": 6,
   "id": "efd3c8f5",
   "metadata": {},
   "outputs": [
    {
     "name": "stdout",
     "output_type": "stream",
     "text": [
      "{'Content-Encoding': 'gzip', 'Accept-Ranges': 'bytes', 'Age': '338941', 'Cache-Control': 'max-age=604800', 'Content-Type': 'text/html; charset=UTF-8', 'Date': 'Fri, 16 Jul 2021 15:12:46 GMT', 'Etag': '\"3147526947+ident\"', 'Expires': 'Fri, 23 Jul 2021 15:12:46 GMT', 'Last-Modified': 'Thu, 17 Oct 2019 07:18:26 GMT', 'Server': 'ECS (dcb/7EEF)', 'X-Cache': 'HIT', 'Content-Length': '648'}\n"
     ]
    }
   ],
   "source": [
    "pprint(r_head.headers)"
   ]
  },
  {
   "cell_type": "code",
   "execution_count": 7,
   "id": "63dcecd0",
   "metadata": {},
   "outputs": [
    {
     "name": "stdout",
     "output_type": "stream",
     "text": [
      "'648'\n"
     ]
    }
   ],
   "source": [
    "pprint(r_head.headers['content-length'])"
   ]
  },
  {
   "cell_type": "code",
   "execution_count": 8,
   "id": "15ca0eda",
   "metadata": {},
   "outputs": [
    {
     "name": "stdout",
     "output_type": "stream",
     "text": [
      "'text/html; charset=UTF-8'\n"
     ]
    }
   ],
   "source": [
    "pprint(r_head.headers['content-type'])"
   ]
  },
  {
   "cell_type": "code",
   "execution_count": null,
   "id": "216db301",
   "metadata": {},
   "outputs": [],
   "source": []
  }
 ],
 "metadata": {
  "kernelspec": {
   "display_name": "Python 3",
   "language": "python",
   "name": "python3"
  },
  "language_info": {
   "codemirror_mode": {
    "name": "ipython",
    "version": 3
   },
   "file_extension": ".py",
   "mimetype": "text/x-python",
   "name": "python",
   "nbconvert_exporter": "python",
   "pygments_lexer": "ipython3",
   "version": "3.6.9"
  }
 },
 "nbformat": 4,
 "nbformat_minor": 5
}
