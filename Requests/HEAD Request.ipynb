{
 "cells": [
  {
   "cell_type": "code",
   "execution_count": 1,
   "id": "cd8f9466",
   "metadata": {},
   "outputs": [],
   "source": [
    "import requests\n",
    "from pprint import pprint\n",
    "import json"
   ]
  },
  {
   "cell_type": "code",
   "execution_count": 2,
   "id": "d7be0616",
   "metadata": {},
   "outputs": [],
   "source": [
    "r_head = requests.head('http://example.com')"
   ]
  },
  {
   "cell_type": "code",
   "execution_count": 3,
   "id": "54f05ae6",
   "metadata": {},
   "outputs": [
    {
     "data": {
      "text/plain": [
       "200"
      ]
     },
     "execution_count": 3,
     "metadata": {},
     "output_type": "execute_result"
    }
   ],
   "source": [
    "r_head.status_code"
   ]
  },
  {
   "cell_type": "code",
   "execution_count": 4,
   "id": "ac1810d8",
   "metadata": {},
   "outputs": [
    {
     "data": {
      "text/plain": [
       "''"
      ]
     },
     "execution_count": 4,
     "metadata": {},
     "output_type": "execute_result"
    }
   ],
   "source": [
    "r_head.text"
   ]
  },
  {
   "cell_type": "code",
   "execution_count": 5,
   "id": "3e4f89e6",
   "metadata": {},
   "outputs": [
    {
     "data": {
      "text/plain": [
       "b''"
      ]
     },
     "execution_count": 5,
     "metadata": {},
     "output_type": "execute_result"
    }
   ],
   "source": [
    "r_head.content"
   ]
  },
  {
   "cell_type": "code",
   "execution_count": null,
   "id": "61fb4893",
   "metadata": {},
   "outputs": [],
   "source": []
  }
 ],
 "metadata": {
  "kernelspec": {
   "display_name": "Python 3",
   "language": "python",
   "name": "python3"
  },
  "language_info": {
   "codemirror_mode": {
    "name": "ipython",
    "version": 3
   },
   "file_extension": ".py",
   "mimetype": "text/x-python",
   "name": "python",
   "nbconvert_exporter": "python",
   "pygments_lexer": "ipython3",
   "version": "3.6.9"
  }
 },
 "nbformat": 4,
 "nbformat_minor": 5
}
