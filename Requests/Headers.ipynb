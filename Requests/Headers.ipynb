{
 "cells": [
  {
   "cell_type": "code",
   "execution_count": 1,
   "id": "6c1bb17c",
   "metadata": {},
   "outputs": [],
   "source": [
    "import requests\n",
    "from pprint import pprint"
   ]
  },
  {
   "cell_type": "code",
   "execution_count": 2,
   "id": "4b527a91",
   "metadata": {},
   "outputs": [],
   "source": [
    "url = 'http://swapi.co/api/people/3'"
   ]
  },
  {
   "cell_type": "code",
   "execution_count": 3,
   "id": "6dfc56f7",
   "metadata": {},
   "outputs": [],
   "source": [
    "headers = {'user-agent' : 'Googlechrome'}"
   ]
  },
  {
   "cell_type": "code",
   "execution_count": 4,
   "id": "73ea29c4",
   "metadata": {},
   "outputs": [],
   "source": [
    "resp = requests.get(url, headers=headers)"
   ]
  },
  {
   "cell_type": "code",
   "execution_count": 5,
   "id": "c750a9fa",
   "metadata": {},
   "outputs": [
    {
     "data": {
      "text/plain": [
       "{'Server': 'Apache/2.4.6 (CentOS) OpenSSL/1.0.2k-fips mod_fcgid/2.3.9 PHP/5.4.16', 'Content-Type': 'text/html; charset=UTF-8', 'Date': 'Wed, 21 Jul 2021 08:07:40 GMT', 'Connection': 'Keep-Alive', 'X-Powered-By': 'PHP/5.4.16', 'Content-Length': '24'}"
      ]
     },
     "execution_count": 5,
     "metadata": {},
     "output_type": "execute_result"
    }
   ],
   "source": [
    "resp.headers"
   ]
  },
  {
   "cell_type": "code",
   "execution_count": 6,
   "id": "64fc7a15",
   "metadata": {},
   "outputs": [
    {
     "data": {
      "text/plain": [
       "'text/html; charset=UTF-8'"
      ]
     },
     "execution_count": 6,
     "metadata": {},
     "output_type": "execute_result"
    }
   ],
   "source": [
    "resp.headers['content-type']"
   ]
  },
  {
   "cell_type": "code",
   "execution_count": 7,
   "id": "e8ac5ee8",
   "metadata": {},
   "outputs": [],
   "source": [
    "resp_obj = requests.get('https://en.wikipedia.org/wiki/Monty_Python')"
   ]
  },
  {
   "cell_type": "code",
   "execution_count": 8,
   "id": "f1e32460",
   "metadata": {},
   "outputs": [
    {
     "data": {
      "text/plain": [
       "{'Date': 'Tue, 20 Jul 2021 16:23:36 GMT', 'Server': 'mw2301.codfw.wmnet', 'X-Content-Type-Options': 'nosniff', 'P3p': 'CP=\"See https://en.wikipedia.org/wiki/Special:CentralAutoLogin/P3P for more info.\"', 'Content-Language': 'en', 'Vary': 'Accept-Encoding,Cookie,Authorization', 'Last-Modified': 'Tue, 20 Jul 2021 16:17:38 GMT', 'Content-Type': 'text/html; charset=UTF-8', 'Content-Encoding': 'gzip', 'Age': '56811', 'X-Cache': 'cp1089 hit, cp1089 hit/46', 'X-Cache-Status': 'hit-front', 'Server-Timing': 'cache;desc=\"hit-front\", host;desc=\"cp1089\"', 'Strict-Transport-Security': 'max-age=106384710; includeSubDomains; preload', 'Report-To': '{ \"group\": \"wm_nel\", \"max_age\": 86400, \"endpoints\": [{ \"url\": \"https://intake-logging.wikimedia.org/v1/events?stream=w3c.reportingapi.network_error&schema_uri=/w3c/reportingapi/network_error/1.0.0\" }] }', 'NEL': '{ \"report_to\": \"wm_nel\", \"max_age\": 86400, \"failure_fraction\": 0.05, \"success_fraction\": 0.0}', 'Permissions-Policy': 'interest-cohort=()', 'Set-Cookie': 'WMF-Last-Access=21-Jul-2021;Path=/;HttpOnly;secure;Expires=Sun, 22 Aug 2021 00:00:00 GMT, WMF-Last-Access-Global=21-Jul-2021;Path=/;Domain=.wikipedia.org;HttpOnly;secure;Expires=Sun, 22 Aug 2021 00:00:00 GMT, GeoIP=PL:02:Wroclaw:51.10:17.02:v4; Path=/; secure; Domain=.wikipedia.org', 'X-Client-IP': '93.181.166.134', 'Cache-Control': 'private, s-maxage=0, max-age=0, must-revalidate', 'Accept-Ranges': 'bytes', 'Content-Length': '108662', 'Connection': 'keep-alive'}"
      ]
     },
     "execution_count": 8,
     "metadata": {},
     "output_type": "execute_result"
    }
   ],
   "source": [
    "resp_obj.headers"
   ]
  },
  {
   "cell_type": "code",
   "execution_count": 9,
   "id": "0bda8bc7",
   "metadata": {},
   "outputs": [
    {
     "data": {
      "text/plain": [
       "{'User-Agent': 'python-requests/2.26.0', 'Accept-Encoding': 'gzip, deflate', 'Accept': '*/*', 'Connection': 'keep-alive'}"
      ]
     },
     "execution_count": 9,
     "metadata": {},
     "output_type": "execute_result"
    }
   ],
   "source": [
    "resp_obj.request.headers"
   ]
  },
  {
   "cell_type": "code",
   "execution_count": 10,
   "id": "39b591a6",
   "metadata": {},
   "outputs": [],
   "source": [
    "r = requests.get('http://httpbin.org/user-agent',\n",
    "                headers = {'User-agent': 'Internet Explorer/2.0'})"
   ]
  },
  {
   "cell_type": "code",
   "execution_count": 11,
   "id": "2b5c282f",
   "metadata": {},
   "outputs": [],
   "source": [
    "data = r.json()"
   ]
  },
  {
   "cell_type": "code",
   "execution_count": 13,
   "id": "1a68b2d2",
   "metadata": {},
   "outputs": [
    {
     "name": "stdout",
     "output_type": "stream",
     "text": [
      "Internet Explorer/2.0\n"
     ]
    }
   ],
   "source": [
    "print(data['user-agent'])"
   ]
  },
  {
   "cell_type": "code",
   "execution_count": null,
   "id": "d61dda43",
   "metadata": {},
   "outputs": [],
   "source": []
  }
 ],
 "metadata": {
  "kernelspec": {
   "display_name": "Python 3",
   "language": "python",
   "name": "python3"
  },
  "language_info": {
   "codemirror_mode": {
    "name": "ipython",
    "version": 3
   },
   "file_extension": ".py",
   "mimetype": "text/x-python",
   "name": "python",
   "nbconvert_exporter": "python",
   "pygments_lexer": "ipython3",
   "version": "3.6.9"
  }
 },
 "nbformat": 4,
 "nbformat_minor": 5
}
