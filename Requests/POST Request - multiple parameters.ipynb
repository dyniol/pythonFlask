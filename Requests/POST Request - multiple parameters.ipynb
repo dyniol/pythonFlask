{
 "cells": [
  {
   "cell_type": "code",
   "execution_count": 1,
   "id": "bd8aedb8",
   "metadata": {},
   "outputs": [],
   "source": [
    "import requests\n",
    "from pprint import pprint\n",
    "import webbrowser"
   ]
  },
  {
   "cell_type": "code",
   "execution_count": 2,
   "id": "f8a9f45c",
   "metadata": {},
   "outputs": [],
   "source": [
    "post_link = 'http://pastebin.com/api/api_post.php'"
   ]
  },
  {
   "cell_type": "code",
   "execution_count": 3,
   "id": "3e5071b6",
   "metadata": {},
   "outputs": [],
   "source": [
    "payload = \"{'username': 'john', 'email': 'john@john.com'}\""
   ]
  },
  {
   "cell_type": "code",
   "execution_count": 4,
   "id": "129e9cde",
   "metadata": {},
   "outputs": [],
   "source": [
    "API_KEY = '068ef8c5332427952bd43af129886ca0'\n",
    "#unique api key - this is not valid"
   ]
  },
  {
   "cell_type": "code",
   "execution_count": 6,
   "id": "f292686a",
   "metadata": {},
   "outputs": [],
   "source": [
    "parameters = {'api_dev_key': API_KEY,\n",
    "             'api_option': \"paste\",\n",
    "             'api_paste_code': payload,\n",
    "             'api_paste_format': 'python'}"
   ]
  },
  {
   "cell_type": "code",
   "execution_count": 7,
   "id": "72ef06b1",
   "metadata": {},
   "outputs": [],
   "source": [
    "r_post = requests.post(post_link, data=parameters)"
   ]
  },
  {
   "cell_type": "code",
   "execution_count": 8,
   "id": "7cb0af3b",
   "metadata": {},
   "outputs": [
    {
     "name": "stdout",
     "output_type": "stream",
     "text": [
      "the request was not successful.\n"
     ]
    }
   ],
   "source": [
    "if (r_post.status_code ==200):\n",
    "    print(\"the request to the url was successful.\")\n",
    "    print('You can find the code pasted on this link: {}'.format(r_post.text))\n",
    "    \n",
    "else:\n",
    "    print(\"the request was not successful.\")"
   ]
  },
  {
   "cell_type": "code",
   "execution_count": null,
   "id": "b2279cf6",
   "metadata": {},
   "outputs": [],
   "source": []
  }
 ],
 "metadata": {
  "kernelspec": {
   "display_name": "Python 3",
   "language": "python",
   "name": "python3"
  },
  "language_info": {
   "codemirror_mode": {
    "name": "ipython",
    "version": 3
   },
   "file_extension": ".py",
   "mimetype": "text/x-python",
   "name": "python",
   "nbconvert_exporter": "python",
   "pygments_lexer": "ipython3",
   "version": "3.6.9"
  }
 },
 "nbformat": 4,
 "nbformat_minor": 5
}
